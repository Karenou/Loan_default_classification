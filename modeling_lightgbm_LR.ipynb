{
 "cells": [
  {
   "cell_type": "code",
   "execution_count": 25,
   "id": "40804ae8",
   "metadata": {},
   "outputs": [],
   "source": [
    "import pandas as pd\n",
    "import numpy as np\n",
    "import warnings\n",
    "import os\n",
    "import seaborn as sns\n",
    "import matplotlib.pyplot as plt\n",
    "from sklearn.model_selection import KFold, StratifiedKFold\n",
    "from sklearn import metrics\n",
    "from sklearn.metrics import roc_auc_score\n",
    "from sklearn.model_selection import GridSearchCV\n",
    "from sklearn.model_selection import cross_val_score\n",
    "\n",
    "\"\"\"\n",
    "sns 相关设置\n",
    "@return:\n",
    "\"\"\"\n",
    "# 声明使用 Seaborn 样式\n",
    "sns.set()\n",
    "# 有五种seaborn的绘图风格，它们分别是：darkgrid, whitegrid, dark, white, ticks。默认的主题是darkgrid。\n",
    "sns.set_style(\"whitegrid\")\n",
    "# 有四个预置的环境，按大小从小到大排列分别为：paper, notebook, talk, poster。其中，notebook是默认的。\n",
    "sns.set_context('talk')\n",
    "# 中文字体设置-黑体\n",
    "plt.rcParams['font.sans-serif'] = ['SimHei']\n",
    "# 解决保存图像是负号'-'显示为方块的问题\n",
    "plt.rcParams['axes.unicode_minus'] = False\n",
    "# 解决Seaborn中文显示问题并调整字体大小\n",
    "sns.set(font='SimHei')"
   ]
  },
  {
   "cell_type": "markdown",
   "id": "d8e97382",
   "metadata": {},
   "source": [
    "reference: https://github.com/datawhalechina/team-learning-data-mining/blob/master/FinancialRiskControl/Task4%20%E5%BB%BA%E6%A8%A1%E8%B0%83%E5%8F%82.md"
   ]
  },
  {
   "cell_type": "markdown",
   "id": "57be51f6",
   "metadata": {},
   "source": [
    "# 读取数据"
   ]
  },
  {
   "cell_type": "code",
   "execution_count": 2,
   "id": "11d0dc5c",
   "metadata": {},
   "outputs": [],
   "source": [
    "def reduce_mem_usage(df):\n",
    "    start_mem = df.memory_usage().sum() \n",
    "    print('Memory usage of dataframe is {:.2f} MB'.format(start_mem))\n",
    "    \n",
    "    for col in df.columns:\n",
    "        col_type = df[col].dtype\n",
    "        \n",
    "        if col_type != object:\n",
    "            c_min = df[col].min()\n",
    "            c_max = df[col].max()\n",
    "            if str(col_type)[:3] == 'int':\n",
    "                if c_min > np.iinfo(np.int8).min and c_max < np.iinfo(np.int8).max:\n",
    "                    df[col] = df[col].astype(np.int8)\n",
    "                elif c_min > np.iinfo(np.int16).min and c_max < np.iinfo(np.int16).max:\n",
    "                    df[col] = df[col].astype(np.int16)\n",
    "                elif c_min > np.iinfo(np.int32).min and c_max < np.iinfo(np.int32).max:\n",
    "                    df[col] = df[col].astype(np.int32)\n",
    "                elif c_min > np.iinfo(np.int64).min and c_max < np.iinfo(np.int64).max:\n",
    "                    df[col] = df[col].astype(np.int64)  \n",
    "            else:\n",
    "                if c_min > np.finfo(np.float16).min and c_max < np.finfo(np.float16).max:\n",
    "                    df[col] = df[col].astype(np.float16)\n",
    "                elif c_min > np.finfo(np.float32).min and c_max < np.finfo(np.float32).max:\n",
    "                    df[col] = df[col].astype(np.float32)\n",
    "                else:\n",
    "                    df[col] = df[col].astype(np.float64)\n",
    "        else:\n",
    "            df[col] = df[col].astype('category')\n",
    "\n",
    "    end_mem = df.memory_usage().sum() \n",
    "    print('Memory usage after optimization is: {:.2f} MB'.format(end_mem))\n",
    "    print('Decreased by {:.1f}%'.format(100 * (start_mem - end_mem) / start_mem))\n",
    "    \n",
    "    return df"
   ]
  },
  {
   "cell_type": "code",
   "execution_count": 39,
   "id": "c17a9f4e",
   "metadata": {},
   "outputs": [
    {
     "name": "stdout",
     "output_type": "stream",
     "text": [
      "Memory usage of dataframe is 345248064.00 MB\n",
      "Memory usage after optimization is: 84683584.00 MB\n",
      "Decreased by 75.5%\n"
     ]
    }
   ],
   "source": [
    "data = pd.read_csv('5001process_train.csv')\n",
    "data = reduce_mem_usage(data)\n",
    "\n",
    "X_train = data.drop('isDefault', axis=1)\n",
    "y_train = data['isDefault']\n",
    "# 数据集划分\n",
    "X_train_split, X_val, y_train_split, y_val = train_test_split(X_train, y_train, test_size=0.2)\n",
    "train_matrix = lgb.Dataset(X_train_split, label=y_train_split)\n",
    "valid_matrix = lgb.Dataset(X_val, label=y_val)"
   ]
  },
  {
   "cell_type": "markdown",
   "id": "1d22b882",
   "metadata": {},
   "source": [
    "# 建模 lightgbm"
   ]
  },
  {
   "cell_type": "code",
   "execution_count": 40,
   "id": "e98390e2",
   "metadata": {},
   "outputs": [],
   "source": [
    "# 5折交叉验证\n",
    "folds = 5\n",
    "seed = 2020\n",
    "kf = KFold(n_splits=folds, shuffle=True, random_state=seed)"
   ]
  },
  {
   "cell_type": "code",
   "execution_count": 41,
   "id": "76d5e464",
   "metadata": {},
   "outputs": [
    {
     "name": "stderr",
     "output_type": "stream",
     "text": [
      "C:\\Users\\huanglamu\\anaconda3\\lib\\site-packages\\lightgbm\\engine.py:181: UserWarning: 'early_stopping_rounds' argument is deprecated and will be removed in a future release of LightGBM. Pass 'early_stopping()' callback via 'callbacks' argument instead.\n",
      "  _log_warning(\"'early_stopping_rounds' argument is deprecated and will be removed in a future release of LightGBM. \"\n",
      "C:\\Users\\huanglamu\\anaconda3\\lib\\site-packages\\lightgbm\\engine.py:239: UserWarning: 'verbose_eval' argument is deprecated and will be removed in a future release of LightGBM. Pass 'log_evaluation()' callback via 'callbacks' argument instead.\n",
      "  _log_warning(\"'verbose_eval' argument is deprecated and will be removed in a future release of LightGBM. \"\n",
      "C:\\Users\\huanglamu\\anaconda3\\lib\\site-packages\\lightgbm\\basic.py:1487: UserWarning: silent keyword has been found in `params` and will be ignored.\n",
      "Please use silent argument of the Dataset constructor to pass this parameter.\n",
      "  _log_warning(f'{key} keyword has been found in `params` and will be ignored.\\n'\n"
     ]
    },
    {
     "name": "stdout",
     "output_type": "stream",
     "text": [
      "[LightGBM] [Warning] Unknown parameter: silent\n",
      "Training until validation scores don't improve for 200 rounds\n",
      "Early stopping, best iteration is:\n",
      "[216]\tvalid_0's auc: 0.736073\n"
     ]
    }
   ],
   "source": [
    "\"\"\"对训练集数据进行划分，分成训练集和验证集，并进行相应的操作\"\"\"\n",
    "from sklearn.model_selection import train_test_split\n",
    "import lightgbm as lgb\n",
    "\n",
    "params = {\n",
    "            'boosting_type': 'gbdt',\n",
    "            'objective': 'binary',\n",
    "            'learning_rate': 0.1,\n",
    "            'metric': 'auc',\n",
    "            'min_child_weight': 1e-3,\n",
    "            'num_leaves': 31,\n",
    "            'max_depth': -1,\n",
    "            'reg_lambda': 0,\n",
    "            'reg_alpha': 0,\n",
    "            'feature_fraction': 1,\n",
    "            'bagging_fraction': 1,\n",
    "            'bagging_freq': 0,\n",
    "            'seed': 2020,\n",
    "            'nthread': 8,\n",
    "            'silent': True,\n",
    "            'verbose': -1,\n",
    "}\n",
    "\n",
    "\"\"\"使用训练集数据进行模型训练\"\"\"\n",
    "model = lgb.train(params, train_set=train_matrix, valid_sets=valid_matrix, num_boost_round=20000, verbose_eval=1000, early_stopping_rounds=200)"
   ]
  },
  {
   "cell_type": "code",
   "execution_count": 42,
   "id": "7b903ea0",
   "metadata": {},
   "outputs": [
    {
     "name": "stdout",
     "output_type": "stream",
     "text": [
      "AUC on validation set：0.7360727222623897\n"
     ]
    },
    {
     "data": {
      "image/png": "[encoded data removed]",
      "text/plain": [
       "<Figure size 576x576 with 1 Axes>"
      ]
     },
     "metadata": {},
     "output_type": "display_data"
    }
   ],
   "source": [
    "\"\"\"预测并计算roc的相关指标\"\"\"\n",
    "val_pre_lgb = model.predict(X_val, num_iteration=model.best_iteration)\n",
    "fpr, tpr, threshold = metrics.roc_curve(y_val, val_pre_lgb)\n",
    "roc_auc = metrics.auc(fpr, tpr)\n",
    "print('AUC on validation set：{}'.format(roc_auc))\n",
    "\"\"\"画出roc曲线图\"\"\"\n",
    "plt.figure(figsize=(8, 8))\n",
    "plt.title('Validation ROC')\n",
    "plt.plot(fpr, tpr, 'b', label = 'Val AUC = %0.4f' % roc_auc)\n",
    "plt.ylim(0,1)\n",
    "plt.xlim(0,1)\n",
    "plt.legend(loc='best')\n",
    "plt.title('ROC')\n",
    "plt.ylabel('True Positive Rate')\n",
    "plt.xlabel('False Positive Rate')\n",
    "# 画出对角线\n",
    "plt.plot([0,1],[0,1],'r--')\n",
    "plt.show()"
   ]
  },
  {
   "cell_type": "markdown",
   "id": "ed66ff44",
   "metadata": {},
   "source": [
    "# Logistic Regression"
   ]
  },
  {
   "cell_type": "markdown",
   "id": "5813af8c",
   "metadata": {},
   "source": [
    "## 数据处理"
   ]
  },
  {
   "cell_type": "code",
   "execution_count": 44,
   "id": "073d3ba7",
   "metadata": {},
   "outputs": [],
   "source": [
    "train_lr = X_train.drop([\"regionCode\", \"issueDate\", \"earliesCreditLine\", \"postCode\", \"title\", \"employmentTitle\"], axis=1)\n",
    "train_lr =  pd.get_dummies(train_lr, columns=['grade', 'subGrade', 'delinquency_2years','homeOwnership','initialListStatus', 'applicationType' ,'employmentLength', 'verificationStatus', 'purpose', 'annualIncome_bin', 'loanAmnt_bin', 'interestRate_bin', 'dti_bin', 'installment_bin', 'revolBal_bin', 'revolUtil_bin'], drop_first=True)"
   ]
  },
  {
   "cell_type": "code",
   "execution_count": 45,
   "id": "b628fb98",
   "metadata": {},
   "outputs": [
    {
     "name": "stdout",
     "output_type": "stream",
     "text": [
      "auc score:0.6207673311229425\n"
     ]
    },
    {
     "name": "stderr",
     "output_type": "stream",
     "text": [
      "C:\\Users\\huanglamu\\anaconda3\\lib\\site-packages\\sklearn\\linear_model\\_logistic.py:763: ConvergenceWarning: lbfgs failed to converge (status=1):\n",
      "STOP: TOTAL NO. of ITERATIONS REACHED LIMIT.\n",
      "\n",
      "Increase the number of iterations (max_iter) or scale the data as shown in:\n",
      "    https://scikit-learn.org/stable/modules/preprocessing.html\n",
      "Please also refer to the documentation for alternative solver options:\n",
      "    https://scikit-learn.org/stable/modules/linear_model.html#logistic-regression\n",
      "  n_iter_i = _check_optimize_result(\n"
     ]
    }
   ],
   "source": [
    "from sklearn.linear_model import LogisticRegression as lr\n",
    "\n",
    "LR = lr(random_state=0, max_iter=1000, class_weight='balanced')\n",
    "LR.fit(X_train_split, y_train_split)\n",
    "y_predict = LR.predict(X_val)\n",
    "\n",
    "fpr, tpr, threshold = metrics.roc_curve(y_val, y_predict)\n",
    "roc_auc = metrics.auc(fpr, tpr)\n",
    "print(f'auc score:{roc_auc}')"
   ]
  },
  {
   "cell_type": "code",
   "execution_count": null,
   "id": "46564dcb",
   "metadata": {},
   "outputs": [],
   "source": []
  }
 ],
 "metadata": {
  "kernelspec": {
   "display_name": "Python 3 (ipykernel)",
   "language": "python",
   "name": "python3"
  },
  "language_info": {
   "codemirror_mode": {
    "name": "ipython",
    "version": 3
   },
   "file_extension": ".py",
   "mimetype": "text/x-python",
   "name": "python",
   "nbconvert_exporter": "python",
   "pygments_lexer": "ipython3",
   "version": "3.9.7"
  }
 },
 "nbformat": 4,
 "nbformat_minor": 5
}
